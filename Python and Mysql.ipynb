{
 "cells": [
  {
   "cell_type": "markdown",
   "id": "be505207",
   "metadata": {},
   "source": [
    "#  Project 1 : Python and MySQL\n",
    "Create a Database in MySQL: \n",
    "Create a Table employee with following fields:\n",
    "Empid        (Primary Key)\n",
    "First name\n",
    "Last name\n",
    "Age\n",
    "Gender\n",
    "Salary\n",
    "City\n",
    "Department\n",
    "\n",
    "Create a table department with following fields:\n",
    "Deptid\n",
    "Deptname\n",
    "\n",
    "(Use suitable datatype and apply necessary Constraints)\n",
    "\n",
    "Create a Jupyter Notebook and Create functions to connect and fire queries : Select, insert, insert many, update, delete on the database.\n"
   ]
  },
  {
   "cell_type": "code",
   "execution_count": 1,
   "id": "349a28e4",
   "metadata": {},
   "outputs": [
    {
     "name": "stdout",
     "output_type": "stream",
     "text": [
      "Requirement already satisfied: mysql_connector-python in c:\\users\\user\\anaconda3\\lib\\site-packages (8.0.32)\n",
      "Requirement already satisfied: protobuf<=3.20.3,>=3.11.0 in c:\\users\\user\\anaconda3\\lib\\site-packages (from mysql_connector-python) (3.20.3)\n"
     ]
    }
   ],
   "source": [
    "# installing mysql_connector_python\n",
    "\n",
    "!pip install mysql_connector-python\n"
   ]
  },
  {
   "cell_type": "code",
   "execution_count": 4,
   "id": "9a6fd414",
   "metadata": {},
   "outputs": [],
   "source": [
    "# importing  mysql.connector\n",
    "\n",
    "import mysql.connector"
   ]
  },
  {
   "cell_type": "code",
   "execution_count": 5,
   "id": "00ea55d2",
   "metadata": {},
   "outputs": [
    {
     "name": "stdout",
     "output_type": "stream",
     "text": [
      "<mysql.connector.connection_cext.CMySQLConnection object at 0x000001ECA8A1F6D0>\n"
     ]
    }
   ],
   "source": [
    "# connecting to the DB\n",
    "\n",
    "db=mysql.connector.connect(host='localhost',\n",
    "                  user='root',\n",
    "                  password='Vyshnavi@2023',\n",
    "                  database='project1')\n",
    "\n",
    "print(db)"
   ]
  },
  {
   "cell_type": "code",
   "execution_count": 9,
   "id": "d81d25a5",
   "metadata": {},
   "outputs": [],
   "source": [
    "# reference to the DB\n",
    "\n",
    "cursor=db.cursor()"
   ]
  },
  {
   "cell_type": "markdown",
   "id": "18057a3e",
   "metadata": {},
   "source": [
    "# Create Employee table"
   ]
  },
  {
   "cell_type": "code",
   "execution_count": 10,
   "id": "6c24d768",
   "metadata": {},
   "outputs": [],
   "source": [
    "\n",
    "emp=\"create table if not exists Employee1(emp_id int primary key,first_name varchar(20),last_name varchar(20),age int,gender varchar(10),salary int,city varchar(25),department varchar(25))\"\n",
    "cursor.execute(emp)"
   ]
  },
  {
   "cell_type": "code",
   "execution_count": 11,
   "id": "498e024d",
   "metadata": {},
   "outputs": [],
   "source": [
    "db.commit()"
   ]
  },
  {
   "cell_type": "markdown",
   "id": "2af8c2ec",
   "metadata": {},
   "source": [
    "# Insert into Employee"
   ]
  },
  {
   "cell_type": "code",
   "execution_count": 12,
   "id": "8ae66369",
   "metadata": {},
   "outputs": [],
   "source": [
    "emp=\"insert into Employee1 values(01,'Vyshnavi','MR',26,'F',12000,'Bangalore','IT')\"\n",
    "cursor.execute(emp)"
   ]
  },
  {
   "cell_type": "code",
   "execution_count": 13,
   "id": "539354ae",
   "metadata": {},
   "outputs": [],
   "source": [
    "db.commit()"
   ]
  },
  {
   "cell_type": "code",
   "execution_count": 14,
   "id": "540cbfd1",
   "metadata": {},
   "outputs": [],
   "source": [
    "emp=\"insert into Employee1 values(02,'Aswathy','MR',23,'F',18000,'Chennai','IT')\"\n",
    "cursor.execute(emp)"
   ]
  },
  {
   "cell_type": "code",
   "execution_count": 15,
   "id": "ce803f75",
   "metadata": {},
   "outputs": [],
   "source": [
    "db.commit()"
   ]
  },
  {
   "cell_type": "code",
   "execution_count": 16,
   "id": "437adaf5",
   "metadata": {},
   "outputs": [],
   "source": [
    "emp=\"insert into Employee1 values(03,'Amal','MR',29,'M',28000,'Kochi','Marketing')\"\n",
    "cursor.execute(emp)"
   ]
  },
  {
   "cell_type": "code",
   "execution_count": 17,
   "id": "75c937a4",
   "metadata": {},
   "outputs": [],
   "source": [
    "db.commit()"
   ]
  },
  {
   "cell_type": "code",
   "execution_count": 18,
   "id": "dabd57bd",
   "metadata": {},
   "outputs": [],
   "source": [
    "emp=\"insert into Employee1 values(04,'Raju','Ms',40,'M',28500,'Kochi','Marketing')\"\n",
    "cursor.execute(emp)"
   ]
  },
  {
   "cell_type": "code",
   "execution_count": 19,
   "id": "8e7a8598",
   "metadata": {},
   "outputs": [],
   "source": [
    "db.commit()"
   ]
  },
  {
   "cell_type": "code",
   "execution_count": 20,
   "id": "10cfe7dd",
   "metadata": {},
   "outputs": [],
   "source": [
    "emp=\"insert into Employee1 values(05,'Bindhu','PK',35,'M',28000,'Kochi','Sales')\"\n",
    "cursor.execute(emp)"
   ]
  },
  {
   "cell_type": "code",
   "execution_count": 21,
   "id": "df563076",
   "metadata": {},
   "outputs": [],
   "source": [
    "db.commit()"
   ]
  },
  {
   "cell_type": "markdown",
   "id": "9f4c506e",
   "metadata": {},
   "source": [
    "# Select Employee Info"
   ]
  },
  {
   "cell_type": "code",
   "execution_count": 26,
   "id": "d3b34d12",
   "metadata": {},
   "outputs": [],
   "source": [
    "emp=\"select * from Employee1\"\n",
    "cursor.execute(emp)\n",
    "\n",
    "rows=cursor.fetchall()"
   ]
  },
  {
   "cell_type": "code",
   "execution_count": 27,
   "id": "4b9b106d",
   "metadata": {},
   "outputs": [
    {
     "name": "stdout",
     "output_type": "stream",
     "text": [
      "(1, 'Vyshnavi', 'MR', 26, 'F', 12000, 'Bangalore', 'IT')\n",
      "(2, 'Aswathy', 'MR', 23, 'F', 18000, 'Chennai', 'IT')\n",
      "(3, 'Amal', 'MR', 29, 'M', 28000, 'Kochi', 'Marketing')\n",
      "(4, 'Raju', 'Ms', 40, 'M', 28500, 'Kochi', 'Marketing')\n",
      "(5, 'Bindhu', 'PK', 35, 'M', 28000, 'Kochi', 'Sales')\n"
     ]
    }
   ],
   "source": [
    "for row in rows:\n",
    "    print(row)"
   ]
  },
  {
   "cell_type": "markdown",
   "id": "bcb0a414",
   "metadata": {},
   "source": [
    "# Update Employee"
   ]
  },
  {
   "cell_type": "code",
   "execution_count": 35,
   "id": "126871bc",
   "metadata": {},
   "outputs": [],
   "source": [
    "# update city with Delhi where emp_id is 3\n",
    "\n",
    "emp=\"update Employee1 set city='Delhi' where emp_id=3 \"\n",
    "cursor.execute(emp)\n",
    "\n",
    "db.commit()"
   ]
  },
  {
   "cell_type": "markdown",
   "id": "65daadb9",
   "metadata": {},
   "source": [
    "# Delete "
   ]
  },
  {
   "cell_type": "code",
   "execution_count": 37,
   "id": "cde58abf",
   "metadata": {},
   "outputs": [],
   "source": [
    "# delete last employee(emp_id=5) from employee1 table\n",
    "\n",
    "emp=\"delete from Employee1 where emp_id=5\"\n",
    "cursor.execute(emp)\n",
    "\n",
    "db.commit()"
   ]
  },
  {
   "cell_type": "markdown",
   "id": "03c0fe1d",
   "metadata": {},
   "source": [
    "# Create Department table"
   ]
  },
  {
   "cell_type": "code",
   "execution_count": 58,
   "id": "957033dd",
   "metadata": {},
   "outputs": [],
   "source": [
    "dep=\"create table DEPT(dept_id varchar(10),dept_name varchar(30))\"\n",
    "cursor.execute(dep)"
   ]
  },
  {
   "cell_type": "code",
   "execution_count": 59,
   "id": "c7471314",
   "metadata": {},
   "outputs": [],
   "source": [
    "db.commit()"
   ]
  },
  {
   "cell_type": "markdown",
   "id": "d2e56672",
   "metadata": {},
   "source": [
    "# Insert into Dept"
   ]
  },
  {
   "cell_type": "code",
   "execution_count": 60,
   "id": "9d5275cc",
   "metadata": {},
   "outputs": [],
   "source": [
    "dep=\"insert into DEPT values('AB01','Operation Management')\"\n",
    "cursor.execute(dep)\n",
    "\n",
    "db.commit()"
   ]
  },
  {
   "cell_type": "code",
   "execution_count": 61,
   "id": "1b779d17",
   "metadata": {},
   "outputs": [],
   "source": [
    "dep=\"insert into DEPT values('AB02','HR')\"\n",
    "cursor.execute(dep)\n",
    "\n",
    "db.commit()"
   ]
  },
  {
   "cell_type": "code",
   "execution_count": 62,
   "id": "c72e10b2",
   "metadata": {},
   "outputs": [],
   "source": [
    "dep=\"insert into DEPT values('AB03','Marketing')\"\n",
    "cursor.execute(dep)\n",
    "\n",
    "db.commit()"
   ]
  },
  {
   "cell_type": "code",
   "execution_count": 63,
   "id": "c4146a2a",
   "metadata": {},
   "outputs": [],
   "source": [
    "dep=\"insert into DEPT values('AB04','IT')\"\n",
    "cursor.execute(dep)\n",
    "\n",
    "db.commit()"
   ]
  },
  {
   "cell_type": "code",
   "execution_count": 64,
   "id": "bed2de5e",
   "metadata": {},
   "outputs": [],
   "source": [
    "dep=\"insert into DEPT values('AB05','Sales')\"\n",
    "cursor.execute(dep)\n",
    "\n",
    "db.commit()"
   ]
  },
  {
   "cell_type": "markdown",
   "id": "06966d97",
   "metadata": {},
   "source": [
    "# Select Dept"
   ]
  },
  {
   "cell_type": "code",
   "execution_count": 69,
   "id": "4272ccad",
   "metadata": {},
   "outputs": [],
   "source": [
    "dep=\"select * from DEPT\"\n",
    "cursor.execute(dep)\n",
    "\n",
    "rows=cursor.fetchall()"
   ]
  },
  {
   "cell_type": "code",
   "execution_count": 70,
   "id": "f0b7e61a",
   "metadata": {},
   "outputs": [
    {
     "name": "stdout",
     "output_type": "stream",
     "text": [
      "('AB01', 'Operation Management')\n",
      "('AB02', 'HR')\n",
      "('AB03', 'Marketing')\n",
      "('AB04', 'IT')\n",
      "('AB05', 'Sales')\n"
     ]
    }
   ],
   "source": [
    "for row in rows:\n",
    "    print(row)"
   ]
  },
  {
   "cell_type": "markdown",
   "id": "1d48b56c",
   "metadata": {},
   "source": [
    "# Update Dept"
   ]
  },
  {
   "cell_type": "code",
   "execution_count": 72,
   "id": "ef42ffbe",
   "metadata": {},
   "outputs": [],
   "source": [
    "# update dept_name with HR where dept_id is AB03\n",
    "\n",
    "dep=\"update DEPT set dept_name='HR' where dept_id='AB03' \"\n",
    "cursor.execute(dep)\n",
    "\n",
    "db.commit()"
   ]
  },
  {
   "cell_type": "markdown",
   "id": "8951d541",
   "metadata": {},
   "source": [
    "# Delete"
   ]
  },
  {
   "cell_type": "code",
   "execution_count": 74,
   "id": "fc70a3c9",
   "metadata": {},
   "outputs": [],
   "source": [
    "# delete dep_id=AB02 from department table\n",
    "\n",
    "dep=\"delete from DEPT where dept_id='AB02'\"\n",
    "cursor.execute(dep)\n",
    "\n",
    "db.commit()"
   ]
  },
  {
   "cell_type": "code",
   "execution_count": null,
   "id": "e5fc8f20",
   "metadata": {},
   "outputs": [],
   "source": []
  }
 ],
 "metadata": {
  "kernelspec": {
   "display_name": "Python 3 (ipykernel)",
   "language": "python",
   "name": "python3"
  },
  "language_info": {
   "codemirror_mode": {
    "name": "ipython",
    "version": 3
   },
   "file_extension": ".py",
   "mimetype": "text/x-python",
   "name": "python",
   "nbconvert_exporter": "python",
   "pygments_lexer": "ipython3",
   "version": "3.9.13"
  }
 },
 "nbformat": 4,
 "nbformat_minor": 5
}
